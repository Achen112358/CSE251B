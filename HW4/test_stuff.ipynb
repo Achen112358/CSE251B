{
 "cells": [
  {
   "cell_type": "code",
   "execution_count": 2,
   "id": "29ce922c",
   "metadata": {},
   "outputs": [],
   "source": [
    "config_data = read_file_in_dir('./', 'default' + '.json')"
   ]
  },
  {
   "cell_type": "code",
   "execution_count": 1,
   "id": "cccae407",
   "metadata": {},
   "outputs": [],
   "source": [
    "from dataset_factory import get_datasets\n",
    "from file_utils import *\n",
    "import nltk"
   ]
  },
  {
   "cell_type": "code",
   "execution_count": 3,
   "id": "c855f0d0",
   "metadata": {},
   "outputs": [
    {
     "name": "stdout",
     "output_type": "stream",
     "text": [
      "loading annotations into memory...\n",
      "Done (t=0.30s)\n",
      "creating index...\n",
      "index created!\n",
      "loading annotations into memory...\n",
      "Done (t=0.20s)\n",
      "creating index...\n",
      "index created!\n",
      "Using the saved vocab.\n",
      "loading annotations into memory...\n",
      "Done (t=0.27s)\n",
      "creating index...\n",
      "index created!\n",
      "loading annotations into memory...\n",
      "Done (t=0.28s)\n",
      "creating index...\n",
      "index created!\n",
      "loading annotations into memory...\n",
      "Done (t=0.16s)\n",
      "creating index...\n",
      "index created!\n"
     ]
    }
   ],
   "source": [
    "coco_test, coco, vocab, train_loader, val_loader, test_loader= get_datasets( config_data)"
   ]
  },
  {
   "cell_type": "code",
   "execution_count": 13,
   "id": "feda5feb",
   "metadata": {},
   "outputs": [
    {
     "data": {
      "text/plain": [
       "['a',\n",
       " 'man',\n",
       " 'and',\n",
       " 'woman',\n",
       " 'loading',\n",
       " 'a',\n",
       " 'surfboard',\n",
       " 'on',\n",
       " 'a',\n",
       " 'motorcycle',\n",
       " 'outside',\n",
       " 'with',\n",
       " 'other',\n",
       " 'riders',\n",
       " 'nearby']"
      ]
     },
     "execution_count": 13,
     "metadata": {},
     "output_type": "execute_result"
    }
   ],
   "source": [
    "nltk.tokenize.word_tokenize(str('A man and woman loading a surfboard on a motorcycle outside with other riders nearby').lower())"
   ]
  },
  {
   "cell_type": "code",
   "execution_count": 5,
   "id": "ee75de8e",
   "metadata": {},
   "outputs": [
    {
     "name": "stdout",
     "output_type": "stream",
     "text": [
      "[{'image_id': 290185, 'id': 50930, 'caption': 'A woman smiles as she holds a piece of pizza.'}, {'image_id': 290185, 'id': 51944, 'caption': 'a woman is holding a piece of pizza'}, {'image_id': 290185, 'id': 58481, 'caption': 'Lady smiling with slice of cheesy pizza in her hand and two bottle of beer in front of her.'}, {'image_id': 290185, 'id': 63428, 'caption': 'a woman holding up pizza and smiling at the camera'}, {'image_id': 290185, 'id': 66173, 'caption': 'An attractive smiling young woman eats a piece of gooey pizza in a restaurant.'}]\n"
     ]
    },
    {
     "name": "stderr",
     "output_type": "stream",
     "text": [
      "Exception ignored in: <function _MultiProcessingDataLoaderIter.__del__ at 0x1302d1310>\n",
      "Traceback (most recent call last):\n",
      "  File \"/Users/shenchen/miniforge3/lib/python3.9/site-packages/torch/utils/data/dataloader.py\", line 1328, in __del__\n",
      "    self._shutdown_workers()\n",
      "  File \"/Users/shenchen/miniforge3/lib/python3.9/site-packages/torch/utils/data/dataloader.py\", line 1301, in _shutdown_workers\n",
      "    w.join(timeout=_utils.MP_STATUS_CHECK_INTERVAL)\n",
      "  File \"/Users/shenchen/miniforge3/lib/python3.9/multiprocessing/process.py\", line 149, in join\n",
      "    res = self._popen.wait(timeout)\n",
      "  File \"/Users/shenchen/miniforge3/lib/python3.9/multiprocessing/popen_fork.py\", line 40, in wait\n",
      "    if not wait([self.sentinel], timeout):\n",
      "  File \"/Users/shenchen/miniforge3/lib/python3.9/multiprocessing/connection.py\", line 936, in wait\n",
      "    ready = selector.select(timeout)\n",
      "  File \"/Users/shenchen/miniforge3/lib/python3.9/selectors.py\", line 416, in select\n",
      "    fd_event_list = self._selector.poll(timeout)\n",
      "KeyboardInterrupt: \n"
     ]
    }
   ],
   "source": [
    "for i, (images, captions, img_ids) in enumerate(val_loader):\n",
    "    for img_id in img_ids:\n",
    "        print(coco.imgToAnns[img_id])\n",
    "        break\n",
    "    break"
   ]
  },
  {
   "cell_type": "code",
   "execution_count": null,
   "id": "787fa9c0",
   "metadata": {},
   "outputs": [],
   "source": []
  }
 ],
 "metadata": {
  "kernelspec": {
   "display_name": "Python 3 (ipykernel)",
   "language": "python",
   "name": "python3"
  },
  "language_info": {
   "codemirror_mode": {
    "name": "ipython",
    "version": 3
   },
   "file_extension": ".py",
   "mimetype": "text/x-python",
   "name": "python",
   "nbconvert_exporter": "python",
   "pygments_lexer": "ipython3",
   "version": "3.9.7"
  }
 },
 "nbformat": 4,
 "nbformat_minor": 5
}
